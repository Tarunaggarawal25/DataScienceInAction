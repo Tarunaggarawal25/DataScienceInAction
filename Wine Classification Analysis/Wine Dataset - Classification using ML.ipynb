{
 "cells": [
  {
   "cell_type": "code",
   "execution_count": 1,
   "id": "923483b5",
   "metadata": {},
   "outputs": [],
   "source": [
    "import numpy as np\n",
    "from keras.utils import np_utils\n",
    "from keras.models import Sequential\n",
    "from keras.layers import Dense\n",
    "from sklearn.model_selection import train_test_split\n",
    "from sklearn.preprocessing import LabelEncoder\n",
    "from sklearn.model_selection import GridSearchCV\n",
    "from keras.wrappers.scikit_learn import KerasClassifier\n",
    "from tensorflow.keras.optimizers import Adam"
   ]
  },
  {
   "cell_type": "code",
   "execution_count": 2,
   "id": "865b7188",
   "metadata": {},
   "outputs": [],
   "source": [
    "# load the wine dataset\n",
    "data = np.loadtxt(r\"wine.data\", delimiter=\",\")"
   ]
  },
  {
   "cell_type": "code",
   "execution_count": 3,
   "id": "21e7b4e1",
   "metadata": {},
   "outputs": [],
   "source": [
    "# split the data into input (X) and output (Y) variables\n",
    "X = data[:,1:14]\n",
    "Y = data[:,0]"
   ]
  },
  {
   "cell_type": "code",
   "execution_count": 4,
   "id": "d1b7dac6",
   "metadata": {},
   "outputs": [],
   "source": [
    "# encode the output variable as integers\n",
    "encoder = LabelEncoder()\n",
    "encoder.fit(Y)\n",
    "Y = encoder.transform(Y)"
   ]
  },
  {
   "cell_type": "code",
   "execution_count": 5,
   "id": "d0febb86",
   "metadata": {},
   "outputs": [],
   "source": [
    "# convert the output variable to a one-hot encoded binary array\n",
    "Y = np_utils.to_categorical(Y)"
   ]
  },
  {
   "cell_type": "code",
   "execution_count": 6,
   "id": "3d6b9ef3",
   "metadata": {},
   "outputs": [],
   "source": [
    "# split the data into training and test sets\n",
    "X_train, X_test, Y_train, Y_test = train_test_split(X, Y, test_size=0.33)"
   ]
  },
  {
   "cell_type": "code",
   "execution_count": 7,
   "id": "9f2e8be0",
   "metadata": {},
   "outputs": [],
   "source": [
    "# create the model\n",
    "model = Sequential()\n",
    "model.add(Dense(64, input_dim=13, activation='relu'))\n",
    "model.add(Dense(32, activation='relu'))\n",
    "model.add(Dense(3, activation='softmax'))"
   ]
  },
  {
   "cell_type": "code",
   "execution_count": 8,
   "id": "9ce066f1",
   "metadata": {},
   "outputs": [],
   "source": [
    "# compile the model\n",
    "model.compile(loss='categorical_crossentropy', optimizer='adam', metrics=['accuracy'])"
   ]
  },
  {
   "cell_type": "code",
   "execution_count": 9,
   "id": "665ec4bd",
   "metadata": {},
   "outputs": [
    {
     "name": "stdout",
     "output_type": "stream",
     "text": [
      "Epoch 1/100\n",
      "12/12 [==============================] - 0s 2ms/step - loss: 23.7993 - accuracy: 0.2269\n",
      "Epoch 2/100\n",
      "12/12 [==============================] - 0s 1ms/step - loss: 8.8078 - accuracy: 0.2017\n",
      "Epoch 3/100\n",
      "12/12 [==============================] - 0s 2ms/step - loss: 3.9707 - accuracy: 0.1933\n",
      "Epoch 4/100\n",
      "12/12 [==============================] - 0s 2ms/step - loss: 1.4439 - accuracy: 0.4790\n",
      "Epoch 5/100\n",
      "12/12 [==============================] - 0s 1ms/step - loss: 1.1724 - accuracy: 0.5378\n",
      "Epoch 6/100\n",
      "12/12 [==============================] - 0s 1ms/step - loss: 1.2700 - accuracy: 0.5966\n",
      "Epoch 7/100\n",
      "12/12 [==============================] - 0s 1ms/step - loss: 1.1025 - accuracy: 0.6050\n",
      "Epoch 8/100\n",
      "12/12 [==============================] - 0s 1ms/step - loss: 0.8219 - accuracy: 0.6639\n",
      "Epoch 9/100\n",
      "12/12 [==============================] - 0s 910us/step - loss: 0.6640 - accuracy: 0.7059\n",
      "Epoch 10/100\n",
      "12/12 [==============================] - 0s 2ms/step - loss: 0.6750 - accuracy: 0.6807\n",
      "Epoch 11/100\n",
      "12/12 [==============================] - 0s 1ms/step - loss: 0.6704 - accuracy: 0.6975\n",
      "Epoch 12/100\n",
      "12/12 [==============================] - 0s 1ms/step - loss: 0.6909 - accuracy: 0.6975\n",
      "Epoch 13/100\n",
      "12/12 [==============================] - 0s 1ms/step - loss: 0.7482 - accuracy: 0.6891\n",
      "Epoch 14/100\n",
      "12/12 [==============================] - 0s 2ms/step - loss: 0.9012 - accuracy: 0.6387\n",
      "Epoch 15/100\n",
      "12/12 [==============================] - 0s 1ms/step - loss: 0.6616 - accuracy: 0.7311\n",
      "Epoch 16/100\n",
      "12/12 [==============================] - 0s 1ms/step - loss: 0.8106 - accuracy: 0.6639\n",
      "Epoch 17/100\n",
      "12/12 [==============================] - 0s 1ms/step - loss: 0.5335 - accuracy: 0.7563\n",
      "Epoch 18/100\n",
      "12/12 [==============================] - 0s 1ms/step - loss: 0.4779 - accuracy: 0.7731\n",
      "Epoch 19/100\n",
      "12/12 [==============================] - 0s 0s/step - loss: 0.5454 - accuracy: 0.7899\n",
      "Epoch 20/100\n",
      "12/12 [==============================] - 0s 712us/step - loss: 0.7096 - accuracy: 0.6387\n",
      "Epoch 21/100\n",
      "12/12 [==============================] - 0s 772us/step - loss: 0.4522 - accuracy: 0.8403\n",
      "Epoch 22/100\n",
      "12/12 [==============================] - 0s 738us/step - loss: 0.4973 - accuracy: 0.8067\n",
      "Epoch 23/100\n",
      "12/12 [==============================] - 0s 570us/step - loss: 0.5322 - accuracy: 0.8151\n",
      "Epoch 24/100\n",
      "12/12 [==============================] - 0s 2ms/step - loss: 0.6508 - accuracy: 0.6807\n",
      "Epoch 25/100\n",
      "12/12 [==============================] - 0s 817us/step - loss: 0.7530 - accuracy: 0.7227\n",
      "Epoch 26/100\n",
      "12/12 [==============================] - 0s 2ms/step - loss: 0.6824 - accuracy: 0.7479\n",
      "Epoch 27/100\n",
      "12/12 [==============================] - 0s 803us/step - loss: 0.6839 - accuracy: 0.7143\n",
      "Epoch 28/100\n",
      "12/12 [==============================] - 0s 2ms/step - loss: 0.3695 - accuracy: 0.8655\n",
      "Epoch 29/100\n",
      "12/12 [==============================] - 0s 2ms/step - loss: 0.3401 - accuracy: 0.8908\n",
      "Epoch 30/100\n",
      "12/12 [==============================] - 0s 1ms/step - loss: 0.3654 - accuracy: 0.8487\n",
      "Epoch 31/100\n",
      "12/12 [==============================] - 0s 1ms/step - loss: 0.4231 - accuracy: 0.8067\n",
      "Epoch 32/100\n",
      "12/12 [==============================] - 0s 1ms/step - loss: 0.3760 - accuracy: 0.8824\n",
      "Epoch 33/100\n",
      "12/12 [==============================] - 0s 46us/step - loss: 0.2996 - accuracy: 0.8992\n",
      "Epoch 34/100\n",
      "12/12 [==============================] - 0s 175us/step - loss: 0.4901 - accuracy: 0.7647\n",
      "Epoch 35/100\n",
      "12/12 [==============================] - 0s 168us/step - loss: 0.4901 - accuracy: 0.7731\n",
      "Epoch 36/100\n",
      "12/12 [==============================] - 0s 1ms/step - loss: 0.3584 - accuracy: 0.8571\n",
      "Epoch 37/100\n",
      "12/12 [==============================] - 0s 954us/step - loss: 0.3348 - accuracy: 0.8824\n",
      "Epoch 38/100\n",
      "12/12 [==============================] - 0s 1ms/step - loss: 0.3075 - accuracy: 0.9160\n",
      "Epoch 39/100\n",
      "12/12 [==============================] - 0s 236us/step - loss: 0.3023 - accuracy: 0.9076\n",
      "Epoch 40/100\n",
      "12/12 [==============================] - 0s 1ms/step - loss: 0.2944 - accuracy: 0.8992\n",
      "Epoch 41/100\n",
      "12/12 [==============================] - 0s 1ms/step - loss: 0.2932 - accuracy: 0.8992\n",
      "Epoch 42/100\n",
      "12/12 [==============================] - 0s 1ms/step - loss: 0.2889 - accuracy: 0.8992\n",
      "Epoch 43/100\n",
      "12/12 [==============================] - 0s 1ms/step - loss: 0.2998 - accuracy: 0.8908\n",
      "Epoch 44/100\n",
      "12/12 [==============================] - 0s 1ms/step - loss: 0.2971 - accuracy: 0.8824\n",
      "Epoch 45/100\n",
      "12/12 [==============================] - 0s 2ms/step - loss: 0.3207 - accuracy: 0.9076\n",
      "Epoch 46/100\n",
      "12/12 [==============================] - 0s 1ms/step - loss: 0.2545 - accuracy: 0.9244\n",
      "Epoch 47/100\n",
      "12/12 [==============================] - 0s 1ms/step - loss: 0.3997 - accuracy: 0.8235\n",
      "Epoch 48/100\n",
      "12/12 [==============================] - 0s 1ms/step - loss: 0.5042 - accuracy: 0.7647\n",
      "Epoch 49/100\n",
      "12/12 [==============================] - 0s 1ms/step - loss: 0.5352 - accuracy: 0.7479\n",
      "Epoch 50/100\n",
      "12/12 [==============================] - 0s 1ms/step - loss: 0.4613 - accuracy: 0.8235\n",
      "Epoch 51/100\n",
      "12/12 [==============================] - 0s 1ms/step - loss: 0.4810 - accuracy: 0.8571\n",
      "Epoch 52/100\n",
      "12/12 [==============================] - 0s 755us/step - loss: 0.8984 - accuracy: 0.6975\n",
      "Epoch 53/100\n",
      "12/12 [==============================] - 0s 2ms/step - loss: 1.2269 - accuracy: 0.6639\n",
      "Epoch 54/100\n",
      "12/12 [==============================] - 0s 507us/step - loss: 0.6077 - accuracy: 0.7899\n",
      "Epoch 55/100\n",
      "12/12 [==============================] - 0s 1ms/step - loss: 0.2541 - accuracy: 0.9244\n",
      "Epoch 56/100\n",
      "12/12 [==============================] - 0s 1ms/step - loss: 0.2426 - accuracy: 0.8739\n",
      "Epoch 57/100\n",
      "12/12 [==============================] - 0s 1ms/step - loss: 0.2931 - accuracy: 0.8908\n",
      "Epoch 58/100\n",
      "12/12 [==============================] - 0s 1ms/step - loss: 0.2404 - accuracy: 0.9328\n",
      "Epoch 59/100\n",
      "12/12 [==============================] - 0s 1ms/step - loss: 0.1917 - accuracy: 0.9328\n",
      "Epoch 60/100\n",
      "12/12 [==============================] - 0s 1ms/step - loss: 0.2775 - accuracy: 0.8908\n",
      "Epoch 61/100\n",
      "12/12 [==============================] - 0s 2ms/step - loss: 0.4242 - accuracy: 0.8235\n",
      "Epoch 62/100\n",
      "12/12 [==============================] - 0s 1ms/step - loss: 0.3888 - accuracy: 0.8739\n",
      "Epoch 63/100\n",
      "12/12 [==============================] - 0s 1ms/step - loss: 0.4619 - accuracy: 0.8151\n",
      "Epoch 64/100\n",
      "12/12 [==============================] - 0s 1ms/step - loss: 0.5265 - accuracy: 0.8067\n",
      "Epoch 65/100\n",
      "12/12 [==============================] - 0s 3ms/step - loss: 0.4392 - accuracy: 0.8487\n",
      "Epoch 66/100\n",
      "12/12 [==============================] - 0s 1ms/step - loss: 0.2188 - accuracy: 0.8908\n",
      "Epoch 67/100\n",
      "12/12 [==============================] - 0s 3ms/step - loss: 0.2923 - accuracy: 0.8992\n",
      "Epoch 68/100\n",
      "12/12 [==============================] - 0s 2ms/step - loss: 0.3658 - accuracy: 0.8319\n",
      "Epoch 69/100\n",
      "12/12 [==============================] - 0s 1ms/step - loss: 0.2693 - accuracy: 0.8992\n",
      "Epoch 70/100\n",
      "12/12 [==============================] - 0s 2ms/step - loss: 0.3647 - accuracy: 0.8487\n",
      "Epoch 71/100\n",
      "12/12 [==============================] - 0s 2ms/step - loss: 0.2355 - accuracy: 0.9076\n",
      "Epoch 72/100\n",
      "12/12 [==============================] - 0s 2ms/step - loss: 0.3104 - accuracy: 0.8908\n",
      "Epoch 73/100\n",
      "12/12 [==============================] - 0s 550us/step - loss: 0.5642 - accuracy: 0.8571\n",
      "Epoch 74/100\n",
      "12/12 [==============================] - 0s 1ms/step - loss: 0.4190 - accuracy: 0.8739\n",
      "Epoch 75/100\n",
      "12/12 [==============================] - 0s 1ms/step - loss: 0.5162 - accuracy: 0.8235\n",
      "Epoch 76/100\n",
      "12/12 [==============================] - 0s 1ms/step - loss: 0.3874 - accuracy: 0.8824\n",
      "Epoch 77/100\n",
      "12/12 [==============================] - 0s 1ms/step - loss: 0.2519 - accuracy: 0.9244\n",
      "Epoch 78/100\n",
      "12/12 [==============================] - 0s 1ms/step - loss: 0.2528 - accuracy: 0.8908\n",
      "Epoch 79/100\n",
      "12/12 [==============================] - 0s 2ms/step - loss: 0.3267 - accuracy: 0.8571\n",
      "Epoch 80/100\n",
      "12/12 [==============================] - 0s 2ms/step - loss: 0.2064 - accuracy: 0.9160\n",
      "Epoch 81/100\n",
      "12/12 [==============================] - 0s 2ms/step - loss: 0.1946 - accuracy: 0.9412\n",
      "Epoch 82/100\n",
      "12/12 [==============================] - 0s 1ms/step - loss: 0.2231 - accuracy: 0.9328\n",
      "Epoch 83/100\n",
      "12/12 [==============================] - 0s 835us/step - loss: 0.2107 - accuracy: 0.9160\n",
      "Epoch 84/100\n",
      "12/12 [==============================] - 0s 508us/step - loss: 0.1915 - accuracy: 0.9244\n",
      "Epoch 85/100\n",
      "12/12 [==============================] - 0s 2ms/step - loss: 0.1983 - accuracy: 0.9412\n",
      "Epoch 86/100\n",
      "12/12 [==============================] - 0s 2ms/step - loss: 0.1616 - accuracy: 0.9496\n",
      "Epoch 87/100\n",
      "12/12 [==============================] - 0s 2ms/step - loss: 0.2385 - accuracy: 0.9076\n",
      "Epoch 88/100\n",
      "12/12 [==============================] - 0s 1ms/step - loss: 0.7697 - accuracy: 0.7983\n",
      "Epoch 89/100\n",
      "12/12 [==============================] - 0s 2ms/step - loss: 0.2651 - accuracy: 0.8908\n",
      "Epoch 90/100\n",
      "12/12 [==============================] - 0s 1ms/step - loss: 0.1887 - accuracy: 0.9076\n",
      "Epoch 91/100\n",
      "12/12 [==============================] - 0s 1ms/step - loss: 0.2536 - accuracy: 0.8655\n",
      "Epoch 92/100\n",
      "12/12 [==============================] - 0s 1ms/step - loss: 0.1848 - accuracy: 0.9160\n",
      "Epoch 93/100\n",
      "12/12 [==============================] - 0s 2ms/step - loss: 0.1812 - accuracy: 0.9160\n",
      "Epoch 94/100\n",
      "12/12 [==============================] - 0s 1ms/step - loss: 0.2393 - accuracy: 0.9160\n",
      "Epoch 95/100\n",
      "12/12 [==============================] - 0s 2ms/step - loss: 0.1694 - accuracy: 0.9580\n",
      "Epoch 96/100\n",
      "12/12 [==============================] - 0s 2ms/step - loss: 0.1637 - accuracy: 0.9412\n",
      "Epoch 97/100\n",
      "12/12 [==============================] - 0s 746us/step - loss: 0.2090 - accuracy: 0.9412\n",
      "Epoch 98/100\n",
      "12/12 [==============================] - 0s 1ms/step - loss: 0.2132 - accuracy: 0.9244\n",
      "Epoch 99/100\n",
      "12/12 [==============================] - 0s 2ms/step - loss: 0.2108 - accuracy: 0.9412\n",
      "Epoch 100/100\n",
      "12/12 [==============================] - 0s 2ms/step - loss: 0.1585 - accuracy: 0.9328\n"
     ]
    },
    {
     "data": {
      "text/plain": [
       "<keras.callbacks.History at 0x209920e12a0>"
      ]
     },
     "execution_count": 9,
     "metadata": {},
     "output_type": "execute_result"
    }
   ],
   "source": [
    "# fit the model to the training data\n",
    "model.fit(X_train, Y_train, epochs=100, batch_size=10)"
   ]
  },
  {
   "cell_type": "code",
   "execution_count": 10,
   "id": "ef3e8fa7",
   "metadata": {},
   "outputs": [
    {
     "name": "stdout",
     "output_type": "stream",
     "text": [
      "2/2 [==============================] - 0s 4ms/step - loss: 0.1880 - accuracy: 0.9492\n",
      "Accuracy: 94.92%\n"
     ]
    }
   ],
   "source": [
    "# evaluate the model on the test data\n",
    "scores = model.evaluate(X_test, Y_test)\n",
    "print(\"Accuracy: %.2f%%\" % (scores[1]*100))"
   ]
  },
  {
   "cell_type": "code",
   "execution_count": 11,
   "id": "c1125e81",
   "metadata": {},
   "outputs": [
    {
     "name": "stderr",
     "output_type": "stream",
     "text": [
      "C:\\Users\\Chinu\\AppData\\Local\\Temp\\ipykernel_32204\\835142763.py:8: DeprecationWarning: KerasClassifier is deprecated, use Sci-Keras (https://github.com/adriangb/scikeras) instead. See https://www.adriangb.com/scikeras/stable/migration.html for help migrating.\n",
      "  model = KerasClassifier(build_fn=create_model, epochs=100, batch_size=5, verbose=0)\n"
     ]
    }
   ],
   "source": [
    "def create_model(optimizer='adam', hidden_size=64):\n",
    "    model = Sequential()\n",
    "    model.add(Dense(units=32, activation='relu', input_shape=(13,)))\n",
    "    model.add(Dense(3, activation='softmax'))\n",
    "    model.compile(loss='categorical_crossentropy', optimizer=optimizer, metrics=['accuracy'])\n",
    "    return model\n",
    "\n",
    "model = KerasClassifier(build_fn=create_model, epochs=100, batch_size=5, verbose=0)\n",
    "param_grid = {'optimizer': ['SGD', 'RMSprop', 'Adam'], 'hidden_size': [32, 64, 128]}\n",
    "grid = GridSearchCV(estimator=model, param_grid=param_grid, n_jobs=-1)\n",
    "grid_result = grid.fit(X_train, Y_train)"
   ]
  },
  {
   "cell_type": "code",
   "execution_count": 12,
   "id": "f1e86d02",
   "metadata": {},
   "outputs": [
    {
     "name": "stdout",
     "output_type": "stream",
     "text": [
      "Best: 0.881522 using {'hidden_size': 64, 'optimizer': 'Adam'}\n",
      "0.252174 (0.026709) with: {'hidden_size': 32, 'optimizer': 'SGD'}\n",
      "0.814855 (0.094094) with: {'hidden_size': 32, 'optimizer': 'RMSprop'}\n",
      "0.857971 (0.076813) with: {'hidden_size': 32, 'optimizer': 'Adam'}\n",
      "0.252174 (0.026709) with: {'hidden_size': 64, 'optimizer': 'SGD'}\n",
      "0.756159 (0.076736) with: {'hidden_size': 64, 'optimizer': 'RMSprop'}\n",
      "0.881522 (0.082904) with: {'hidden_size': 64, 'optimizer': 'Adam'}\n",
      "0.285507 (0.088265) with: {'hidden_size': 128, 'optimizer': 'SGD'}\n",
      "0.874275 (0.058429) with: {'hidden_size': 128, 'optimizer': 'RMSprop'}\n",
      "0.857971 (0.096812) with: {'hidden_size': 128, 'optimizer': 'Adam'}\n"
     ]
    }
   ],
   "source": [
    "# summarize results\n",
    "print(\"Best: %f using %s\" % (grid_result.best_score_, grid_result.best_params_))\n",
    "means = grid_result.cv_results_['mean_test_score']\n",
    "stds = grid_result.cv_results_['std_test_score']\n",
    "params = grid_result.cv_results_['params']\n",
    "for mean, stdev, param in zip(means, stds, params):\n",
    "     print(\"%f (%f) with: %r\" % (mean, stdev, param))"
   ]
  },
  {
   "cell_type": "code",
   "execution_count": null,
   "id": "6c3dfe45",
   "metadata": {},
   "outputs": [],
   "source": []
  }
 ],
 "metadata": {
  "kernelspec": {
   "display_name": "Python 3 (ipykernel)",
   "language": "python",
   "name": "python3"
  },
  "language_info": {
   "codemirror_mode": {
    "name": "ipython",
    "version": 3
   },
   "file_extension": ".py",
   "mimetype": "text/x-python",
   "name": "python",
   "nbconvert_exporter": "python",
   "pygments_lexer": "ipython3",
   "version": "3.10.2"
  }
 },
 "nbformat": 4,
 "nbformat_minor": 5
}
