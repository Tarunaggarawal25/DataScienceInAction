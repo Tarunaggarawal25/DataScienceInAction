{
 "cells": [
  {
   "cell_type": "code",
   "execution_count": 38,
   "id": "c498f819",
   "metadata": {},
   "outputs": [],
   "source": [
    "import pandas as pd\n",
    "import numpy as np\n",
    "from sklearn.model_selection import train_test_split\n",
    "from sklearn.linear_model import LinearRegression\n",
    "from sklearn.ensemble import RandomForestRegressor\n",
    "from sklearn.metrics import mean_squared_error\n",
    "from sklearn.preprocessing import OneHotEncoder"
   ]
  },
  {
   "cell_type": "code",
   "execution_count": 39,
   "id": "4cbcebab",
   "metadata": {},
   "outputs": [],
   "source": [
    "# Load the dataset\n",
    "df = pd.read_csv(r\"fitness.csv\")"
   ]
  },
  {
   "cell_type": "code",
   "execution_count": 53,
   "id": "987fe0af",
   "metadata": {},
   "outputs": [
    {
     "data": {
      "text/html": [
       "<div>\n",
       "<style scoped>\n",
       "    .dataframe tbody tr th:only-of-type {\n",
       "        vertical-align: middle;\n",
       "    }\n",
       "\n",
       "    .dataframe tbody tr th {\n",
       "        vertical-align: top;\n",
       "    }\n",
       "\n",
       "    .dataframe thead th {\n",
       "        text-align: right;\n",
       "    }\n",
       "</style>\n",
       "<table border=\"1\" class=\"dataframe\">\n",
       "  <thead>\n",
       "    <tr style=\"text-align: right;\">\n",
       "      <th></th>\n",
       "      <th>User ID</th>\n",
       "      <th>Age</th>\n",
       "      <th>Activity Level (Steps)</th>\n",
       "      <th>Sleep (round off Hours)</th>\n",
       "      <th>Heart Rate (BPM)</th>\n",
       "      <th>Weight (kg)</th>\n",
       "      <th>Height(cm)</th>\n",
       "      <th>Fitness Goals (Steps)</th>\n",
       "      <th>Unnamed: 9</th>\n",
       "      <th>Unnamed: 10</th>\n",
       "      <th>Gender_Female</th>\n",
       "      <th>Gender_Male</th>\n",
       "    </tr>\n",
       "  </thead>\n",
       "  <tbody>\n",
       "    <tr>\n",
       "      <th>0</th>\n",
       "      <td>1</td>\n",
       "      <td>23</td>\n",
       "      <td>4853</td>\n",
       "      <td>2</td>\n",
       "      <td>146</td>\n",
       "      <td>75</td>\n",
       "      <td>240</td>\n",
       "      <td>17318</td>\n",
       "      <td>NaN</td>\n",
       "      <td>NaN</td>\n",
       "      <td>1.0</td>\n",
       "      <td>0.0</td>\n",
       "    </tr>\n",
       "    <tr>\n",
       "      <th>1</th>\n",
       "      <td>2</td>\n",
       "      <td>36</td>\n",
       "      <td>21409</td>\n",
       "      <td>10</td>\n",
       "      <td>132</td>\n",
       "      <td>117</td>\n",
       "      <td>215</td>\n",
       "      <td>25660</td>\n",
       "      <td>NaN</td>\n",
       "      <td>NaN</td>\n",
       "      <td>1.0</td>\n",
       "      <td>0.0</td>\n",
       "    </tr>\n",
       "    <tr>\n",
       "      <th>2</th>\n",
       "      <td>3</td>\n",
       "      <td>33</td>\n",
       "      <td>1290</td>\n",
       "      <td>8</td>\n",
       "      <td>76</td>\n",
       "      <td>72</td>\n",
       "      <td>238</td>\n",
       "      <td>6842</td>\n",
       "      <td>NaN</td>\n",
       "      <td>NaN</td>\n",
       "      <td>1.0</td>\n",
       "      <td>0.0</td>\n",
       "    </tr>\n",
       "    <tr>\n",
       "      <th>3</th>\n",
       "      <td>4</td>\n",
       "      <td>19</td>\n",
       "      <td>30318</td>\n",
       "      <td>4</td>\n",
       "      <td>62</td>\n",
       "      <td>78</td>\n",
       "      <td>136</td>\n",
       "      <td>29678</td>\n",
       "      <td>NaN</td>\n",
       "      <td>NaN</td>\n",
       "      <td>1.0</td>\n",
       "      <td>0.0</td>\n",
       "    </tr>\n",
       "    <tr>\n",
       "      <th>4</th>\n",
       "      <td>5</td>\n",
       "      <td>30</td>\n",
       "      <td>33151</td>\n",
       "      <td>10</td>\n",
       "      <td>126</td>\n",
       "      <td>58</td>\n",
       "      <td>145</td>\n",
       "      <td>34157</td>\n",
       "      <td>NaN</td>\n",
       "      <td>Gender</td>\n",
       "      <td>1.0</td>\n",
       "      <td>0.0</td>\n",
       "    </tr>\n",
       "  </tbody>\n",
       "</table>\n",
       "</div>"
      ],
      "text/plain": [
       "   User ID  Age  Activity Level (Steps)  Sleep (round off Hours)  \\\n",
       "0        1   23                    4853                        2   \n",
       "1        2   36                   21409                       10   \n",
       "2        3   33                    1290                        8   \n",
       "3        4   19                   30318                        4   \n",
       "4        5   30                   33151                       10   \n",
       "\n",
       "   Heart Rate (BPM)  Weight (kg)  Height(cm)  Fitness Goals (Steps)  \\\n",
       "0               146           75         240                  17318   \n",
       "1               132          117         215                  25660   \n",
       "2                76           72         238                   6842   \n",
       "3                62           78         136                  29678   \n",
       "4               126           58         145                  34157   \n",
       "\n",
       "   Unnamed: 9 Unnamed: 10  Gender_Female  Gender_Male  \n",
       "0         NaN         NaN            1.0          0.0  \n",
       "1         NaN         NaN            1.0          0.0  \n",
       "2         NaN         NaN            1.0          0.0  \n",
       "3         NaN         NaN            1.0          0.0  \n",
       "4         NaN      Gender            1.0          0.0  "
      ]
     },
     "execution_count": 53,
     "metadata": {},
     "output_type": "execute_result"
    }
   ],
   "source": [
    "df.head()"
   ]
  },
  {
   "cell_type": "code",
   "execution_count": 40,
   "id": "c59a4e6a",
   "metadata": {},
   "outputs": [
    {
     "name": "stderr",
     "output_type": "stream",
     "text": [
      "C:\\Users\\Chinu\\Python310\\lib\\site-packages\\sklearn\\utils\\deprecation.py:87: FutureWarning: Function get_feature_names is deprecated; get_feature_names is deprecated in 1.0 and will be removed in 1.2. Please use get_feature_names_out instead.\n",
      "  warnings.warn(msg, category=FutureWarning)\n"
     ]
    }
   ],
   "source": [
    "# One-hot encode the categorical variables\n",
    "encoder = OneHotEncoder()\n",
    "gender_encoded = encoder.fit_transform(df[[\"Gender\"]]).toarray()\n",
    "gender_df = pd.DataFrame(gender_encoded, columns=encoder.get_feature_names([\"Gender\"]))\n",
    "df = pd.concat([df, gender_df], axis=1)\n",
    "df = df.drop(\"Gender\", axis=1)\n"
   ]
  },
  {
   "cell_type": "code",
   "execution_count": 42,
   "id": "e7924d35",
   "metadata": {},
   "outputs": [],
   "source": [
    "# Select features and target variable\n",
    "X = df[[\"Age\", \"Activity Level (Steps)\", \"Sleep (round off Hours)\", \"Heart Rate (BPM)\", \"Weight (kg)\", \"Height(cm)\"]]\n",
    "y = df[\"Fitness Goals (Steps)\"]"
   ]
  },
  {
   "cell_type": "code",
   "execution_count": 43,
   "id": "1f58b448",
   "metadata": {},
   "outputs": [],
   "source": [
    "# Splitting the data into training and testing sets\n",
    "X_train, X_test, y_train, y_test = train_test_split(X, y, test_size=0.2, random_state=42)"
   ]
  },
  {
   "cell_type": "code",
   "execution_count": 44,
   "id": "e74c5cc1",
   "metadata": {},
   "outputs": [
    {
     "data": {
      "text/plain": [
       "LinearRegression()"
      ]
     },
     "execution_count": 44,
     "metadata": {},
     "output_type": "execute_result"
    }
   ],
   "source": [
    "# Fitting the Linear Regression model\n",
    "lin_reg = LinearRegression()\n",
    "lin_reg.fit(X_train, y_train)"
   ]
  },
  {
   "cell_type": "code",
   "execution_count": 45,
   "id": "9ef19e0f",
   "metadata": {},
   "outputs": [
    {
     "data": {
      "text/plain": [
       "RandomForestRegressor(random_state=42)"
      ]
     },
     "execution_count": 45,
     "metadata": {},
     "output_type": "execute_result"
    }
   ],
   "source": [
    "# Fitting the Random Forest Regressor model\n",
    "rf_reg = RandomForestRegressor(n_estimators=100, random_state=42)\n",
    "rf_reg.fit(X_train, y_train)"
   ]
  },
  {
   "cell_type": "code",
   "execution_count": 46,
   "id": "6a074ec8",
   "metadata": {},
   "outputs": [],
   "source": [
    "# Predicting the fitness goals\n",
    "lin_reg_pred = lin_reg.predict(X_test)\n",
    "rf_reg_pred = rf_reg.predict(X_test)"
   ]
  },
  {
   "cell_type": "code",
   "execution_count": 47,
   "id": "dd7248c6",
   "metadata": {},
   "outputs": [],
   "source": [
    "# Calculating the mean squared error of the predictions\n",
    "lin_reg_mse = mean_squared_error(y_test, lin_reg_pred)\n",
    "rf_reg_mse = mean_squared_error(y_test, rf_reg_pred)"
   ]
  },
  {
   "cell_type": "code",
   "execution_count": 48,
   "id": "46f59185",
   "metadata": {},
   "outputs": [],
   "source": [
    "# Selecting the model with the lowest mean squared error\n",
    "if lin_reg_mse < rf_reg_mse:\n",
    "    final_model = lin_reg\n",
    "else:\n",
    "    final_model = rf_reg"
   ]
  },
  {
   "cell_type": "code",
   "execution_count": 49,
   "id": "8f4130b6",
   "metadata": {},
   "outputs": [
    {
     "data": {
      "text/plain": [
       "['final_model.pkl']"
      ]
     },
     "execution_count": 49,
     "metadata": {},
     "output_type": "execute_result"
    }
   ],
   "source": [
    "# Storing the final model for future predictions\n",
    "import joblib\n",
    "joblib.dump(final_model, \"final_model.pkl\")"
   ]
  },
  {
   "cell_type": "code",
   "execution_count": 51,
   "id": "c6181a9e",
   "metadata": {},
   "outputs": [
    {
     "name": "stdout",
     "output_type": "stream",
     "text": [
      "Predicted Fitness Goal: 26172.693332790685\n"
     ]
    },
    {
     "name": "stderr",
     "output_type": "stream",
     "text": [
      "C:\\Users\\Chinu\\Python310\\lib\\site-packages\\sklearn\\base.py:450: UserWarning: X does not have valid feature names, but LinearRegression was fitted with feature names\n",
      "  warnings.warn(\n"
     ]
    }
   ],
   "source": [
    "# Loading the final model for predictions\n",
    "loaded_model = joblib.load(\"final_model.pkl\")\n",
    "new_data = np.array([[40, 10000, 8, 90, 89, 200]])\n",
    "new_fitness_goal = loaded_model.predict(new_data)\n",
    "print(\"Predicted Fitness Goal:\", new_fitness_goal[0])"
   ]
  },
  {
   "cell_type": "code",
   "execution_count": null,
   "id": "e8fc960c",
   "metadata": {},
   "outputs": [],
   "source": []
  }
 ],
 "metadata": {
  "kernelspec": {
   "display_name": "Python 3 (ipykernel)",
   "language": "python",
   "name": "python3"
  },
  "language_info": {
   "codemirror_mode": {
    "name": "ipython",
    "version": 3
   },
   "file_extension": ".py",
   "mimetype": "text/x-python",
   "name": "python",
   "nbconvert_exporter": "python",
   "pygments_lexer": "ipython3",
   "version": "3.10.2"
  }
 },
 "nbformat": 4,
 "nbformat_minor": 5
}
